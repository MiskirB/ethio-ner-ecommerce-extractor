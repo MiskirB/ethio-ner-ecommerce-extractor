{
 "cells": [
  {
   "cell_type": "code",
   "execution_count": 5,
   "metadata": {},
   "outputs": [
    {
     "name": "stderr",
     "output_type": "stream",
     "text": [
      "  0%|          | 0/7 [00:00<?, ?it/s]"
     ]
    },
    {
     "name": "stdout",
     "output_type": "stream",
     "text": [
      "📥 Fetching from: @ZemenExpress\n"
     ]
    },
    {
     "name": "stderr",
     "output_type": "stream",
     "text": [
      "Invalid code. Please try again.\n"
     ]
    },
    {
     "name": "stdout",
     "output_type": "stream",
     "text": [
      "Signed in successfully as ClickHealth; remember to not break the ToS or you will risk an account ban!\n"
     ]
    },
    {
     "name": "stderr",
     "output_type": "stream",
     "text": [
      " 14%|█▍        | 1/7 [01:24<08:28, 84.74s/it]"
     ]
    },
    {
     "name": "stdout",
     "output_type": "stream",
     "text": [
      "✅ @ZemenExpress → 40 messages\n",
      "📥 Fetching from: @nevacomputer\n"
     ]
    },
    {
     "name": "stderr",
     "output_type": "stream",
     "text": [
      " 29%|██▊       | 2/7 [01:25<02:56, 35.22s/it]"
     ]
    },
    {
     "name": "stdout",
     "output_type": "stream",
     "text": [
      "✅ @nevacomputer → 32 messages\n",
      "📥 Fetching from: @meneshayeofficial\n"
     ]
    },
    {
     "name": "stderr",
     "output_type": "stream",
     "text": [
      " 43%|████▎     | 3/7 [01:26<01:18, 19.59s/it]"
     ]
    },
    {
     "name": "stdout",
     "output_type": "stream",
     "text": [
      "✅ @meneshayeofficial → 92 messages\n",
      "📥 Fetching from: @ethio_brand_collection\n"
     ]
    },
    {
     "name": "stderr",
     "output_type": "stream",
     "text": [
      " 57%|█████▋    | 4/7 [01:26<00:36, 12.11s/it]"
     ]
    },
    {
     "name": "stdout",
     "output_type": "stream",
     "text": [
      "✅ @ethio_brand_collection → 99 messages\n",
      "📥 Fetching from: @helloomarketethiopia\n"
     ]
    },
    {
     "name": "stderr",
     "output_type": "stream",
     "text": [
      " 71%|███████▏  | 5/7 [01:27<00:15,  7.97s/it]"
     ]
    },
    {
     "name": "stdout",
     "output_type": "stream",
     "text": [
      "✅ @helloomarketethiopia → 76 messages\n",
      "📥 Fetching from: @modernshoppingcenter\n"
     ]
    },
    {
     "name": "stderr",
     "output_type": "stream",
     "text": [
      " 86%|████████▌ | 6/7 [01:28<00:05,  5.45s/it]"
     ]
    },
    {
     "name": "stdout",
     "output_type": "stream",
     "text": [
      "✅ @modernshoppingcenter → 25 messages\n",
      "📥 Fetching from: @kuruwear\n"
     ]
    },
    {
     "name": "stderr",
     "output_type": "stream",
     "text": [
      "100%|██████████| 7/7 [01:28<00:00, 12.68s/it]"
     ]
    },
    {
     "name": "stdout",
     "output_type": "stream",
     "text": [
      "✅ @kuruwear → 74 messages\n"
     ]
    },
    {
     "name": "stderr",
     "output_type": "stream",
     "text": [
      "\n"
     ]
    },
    {
     "data": {
      "text/html": [
       "<h3>Cleaned Telegram Posts</h3>"
      ],
      "text/plain": [
       "<IPython.core.display.HTML object>"
      ]
     },
     "metadata": {},
     "output_type": "display_data"
    },
    {
     "data": {
      "text/html": [
       "<div>\n",
       "<style scoped>\n",
       "    .dataframe tbody tr th:only-of-type {\n",
       "        vertical-align: middle;\n",
       "    }\n",
       "\n",
       "    .dataframe tbody tr th {\n",
       "        vertical-align: top;\n",
       "    }\n",
       "\n",
       "    .dataframe thead th {\n",
       "        text-align: right;\n",
       "    }\n",
       "</style>\n",
       "<table border=\"1\" class=\"dataframe\">\n",
       "  <thead>\n",
       "    <tr style=\"text-align: right;\">\n",
       "      <th></th>\n",
       "      <th>channel</th>\n",
       "      <th>id</th>\n",
       "      <th>date</th>\n",
       "      <th>text</th>\n",
       "      <th>views</th>\n",
       "      <th>media</th>\n",
       "      <th>cleaned_text</th>\n",
       "    </tr>\n",
       "  </thead>\n",
       "  <tbody>\n",
       "    <tr>\n",
       "      <th>0</th>\n",
       "      <td>@ZemenExpress</td>\n",
       "      <td>7004</td>\n",
       "      <td>2025-06-23 14:55:46+00:00</td>\n",
       "      <td>💥💥👀 ...........💥💥\\n\\n📌 Electric Charcoal Burne...</td>\n",
       "      <td>1760</td>\n",
       "      <td>True</td>\n",
       "      <td>Electric Charcoal Burner በቀላሉ ከሰል ለማያያዝ የሚሆን  ...</td>\n",
       "    </tr>\n",
       "    <tr>\n",
       "      <th>1</th>\n",
       "      <td>@ZemenExpress</td>\n",
       "      <td>7000</td>\n",
       "      <td>2025-06-23 14:55:40+00:00</td>\n",
       "      <td>💥💥👀 ...........💥💥\\n\\n📌 Electric Charcoal Burne...</td>\n",
       "      <td>1458</td>\n",
       "      <td>True</td>\n",
       "      <td>Electric Charcoal Burner በቀላሉ ከሰል ለማያያዝ የሚሆን  ...</td>\n",
       "    </tr>\n",
       "    <tr>\n",
       "      <th>2</th>\n",
       "      <td>@ZemenExpress</td>\n",
       "      <td>6999</td>\n",
       "      <td>2025-06-23 14:55:30+00:00</td>\n",
       "      <td>💥💥👀 ...........💥💥\\n\\n📌 Electric Charcoal Burne...</td>\n",
       "      <td>1463</td>\n",
       "      <td>True</td>\n",
       "      <td>Electric Charcoal Burner በቀላሉ ከሰል ለማያያዝ የሚሆን  ...</td>\n",
       "    </tr>\n",
       "    <tr>\n",
       "      <th>3</th>\n",
       "      <td>@ZemenExpress</td>\n",
       "      <td>6995</td>\n",
       "      <td>2025-06-23 08:23:14+00:00</td>\n",
       "      <td>💥💥...................................💥💥\\n\\n📌Fo...</td>\n",
       "      <td>2374</td>\n",
       "      <td>True</td>\n",
       "      <td>Food mould Tool ስድስት አይነት ቅርጽ ዋጋ፦  700 ብር ውስን ...</td>\n",
       "    </tr>\n",
       "    <tr>\n",
       "      <th>4</th>\n",
       "      <td>@ZemenExpress</td>\n",
       "      <td>6991</td>\n",
       "      <td>2025-06-21 16:35:51+00:00</td>\n",
       "      <td>💥💥...................................💥💥\\n\\n📌Sa...</td>\n",
       "      <td>3185</td>\n",
       "      <td>True</td>\n",
       "      <td>Saachi Electric Kettle Borosilicate Glass Body...</td>\n",
       "    </tr>\n",
       "    <tr>\n",
       "      <th>5</th>\n",
       "      <td>@ZemenExpress</td>\n",
       "      <td>6987</td>\n",
       "      <td>2025-06-21 08:07:31+00:00</td>\n",
       "      <td>💥💥...................................💥💥\\n\\n3pc...</td>\n",
       "      <td>3160</td>\n",
       "      <td>True</td>\n",
       "      <td>3pcs Bottle Stopper በማንኛውም ጠርሙስ ጫፍ የሚገጠም ለዘይት ...</td>\n",
       "    </tr>\n",
       "    <tr>\n",
       "      <th>6</th>\n",
       "      <td>@ZemenExpress</td>\n",
       "      <td>6986</td>\n",
       "      <td>2025-06-21 08:07:11+00:00</td>\n",
       "      <td>💥💥...................................💥💥\\n\\n3pc...</td>\n",
       "      <td>2750</td>\n",
       "      <td>True</td>\n",
       "      <td>3pcs Bottle Stopper በማንኛውም ጠርሙስ ጫፍ የሚገጠም ለዘይት ...</td>\n",
       "    </tr>\n",
       "    <tr>\n",
       "      <th>7</th>\n",
       "      <td>@ZemenExpress</td>\n",
       "      <td>6985</td>\n",
       "      <td>2025-06-21 05:42:46+00:00</td>\n",
       "      <td>💥💥...................................💥💥\\n\\n📌1 ...</td>\n",
       "      <td>2841</td>\n",
       "      <td>True</td>\n",
       "      <td>1 pairs Sneaker Crease Protector ዋጋ፦  400 ብር ው...</td>\n",
       "    </tr>\n",
       "    <tr>\n",
       "      <th>8</th>\n",
       "      <td>@ZemenExpress</td>\n",
       "      <td>6983</td>\n",
       "      <td>2025-06-21 05:42:19+00:00</td>\n",
       "      <td>💥💥...................................💥💥\\n\\n📌1 ...</td>\n",
       "      <td>3139</td>\n",
       "      <td>True</td>\n",
       "      <td>1 pairs Sneaker Crease Protector ዋጋ፦  400 ብር ው...</td>\n",
       "    </tr>\n",
       "    <tr>\n",
       "      <th>9</th>\n",
       "      <td>@ZemenExpress</td>\n",
       "      <td>6982</td>\n",
       "      <td>2025-06-18 06:01:10+00:00</td>\n",
       "      <td>💥💥...................................💥💥\\n\\n📌Im...</td>\n",
       "      <td>4582</td>\n",
       "      <td>True</td>\n",
       "      <td>Imitation Volcano Humidifier with LED Light በኤ...</td>\n",
       "    </tr>\n",
       "  </tbody>\n",
       "</table>\n",
       "</div>"
      ],
      "text/plain": [
       "         channel    id                      date  \\\n",
       "0  @ZemenExpress  7004 2025-06-23 14:55:46+00:00   \n",
       "1  @ZemenExpress  7000 2025-06-23 14:55:40+00:00   \n",
       "2  @ZemenExpress  6999 2025-06-23 14:55:30+00:00   \n",
       "3  @ZemenExpress  6995 2025-06-23 08:23:14+00:00   \n",
       "4  @ZemenExpress  6991 2025-06-21 16:35:51+00:00   \n",
       "5  @ZemenExpress  6987 2025-06-21 08:07:31+00:00   \n",
       "6  @ZemenExpress  6986 2025-06-21 08:07:11+00:00   \n",
       "7  @ZemenExpress  6985 2025-06-21 05:42:46+00:00   \n",
       "8  @ZemenExpress  6983 2025-06-21 05:42:19+00:00   \n",
       "9  @ZemenExpress  6982 2025-06-18 06:01:10+00:00   \n",
       "\n",
       "                                                text  views  media  \\\n",
       "0  💥💥👀 ...........💥💥\\n\\n📌 Electric Charcoal Burne...   1760   True   \n",
       "1  💥💥👀 ...........💥💥\\n\\n📌 Electric Charcoal Burne...   1458   True   \n",
       "2  💥💥👀 ...........💥💥\\n\\n📌 Electric Charcoal Burne...   1463   True   \n",
       "3  💥💥...................................💥💥\\n\\n📌Fo...   2374   True   \n",
       "4  💥💥...................................💥💥\\n\\n📌Sa...   3185   True   \n",
       "5  💥💥...................................💥💥\\n\\n3pc...   3160   True   \n",
       "6  💥💥...................................💥💥\\n\\n3pc...   2750   True   \n",
       "7  💥💥...................................💥💥\\n\\n📌1 ...   2841   True   \n",
       "8  💥💥...................................💥💥\\n\\n📌1 ...   3139   True   \n",
       "9  💥💥...................................💥💥\\n\\n📌Im...   4582   True   \n",
       "\n",
       "                                        cleaned_text  \n",
       "0  Electric Charcoal Burner በቀላሉ ከሰል ለማያያዝ የሚሆን  ...  \n",
       "1  Electric Charcoal Burner በቀላሉ ከሰል ለማያያዝ የሚሆን  ...  \n",
       "2  Electric Charcoal Burner በቀላሉ ከሰል ለማያያዝ የሚሆን  ...  \n",
       "3  Food mould Tool ስድስት አይነት ቅርጽ ዋጋ፦  700 ብር ውስን ...  \n",
       "4  Saachi Electric Kettle Borosilicate Glass Body...  \n",
       "5  3pcs Bottle Stopper በማንኛውም ጠርሙስ ጫፍ የሚገጠም ለዘይት ...  \n",
       "6  3pcs Bottle Stopper በማንኛውም ጠርሙስ ጫፍ የሚገጠም ለዘይት ...  \n",
       "7  1 pairs Sneaker Crease Protector ዋጋ፦  400 ብር ው...  \n",
       "8  1 pairs Sneaker Crease Protector ዋጋ፦  400 ብር ው...  \n",
       "9  Imitation Volcano Humidifier with LED Light በኤ...  "
      ]
     },
     "metadata": {},
     "output_type": "display_data"
    },
    {
     "name": "stderr",
     "output_type": "stream",
     "text": [
      "Server closed the connection: [Errno 54] Connection reset by peer\n",
      "Server closed the connection: [Errno 54] Connection reset by peer\n"
     ]
    }
   ],
   "source": [
    "# ---[ Environment Setup ]---\n",
    "import os\n",
    "import sys\n",
    "import pandas as pd\n",
    "import re\n",
    "from tqdm import tqdm\n",
    "from dotenv import load_dotenv\n",
    "import nest_asyncio\n",
    "from IPython.display import display, HTML\n",
    "\n",
    "# Enable asyncio compatibility in notebooks\n",
    "nest_asyncio.apply()\n",
    "\n",
    "# Add project root to path to find scripts/\n",
    "sys.path.append(os.path.abspath(\"..\"))\n",
    "\n",
    "# Load .env credentials\n",
    "load_dotenv()\n",
    "\n",
    "# ---[ Import fetch function ]---\n",
    "from scripts.telegram_scraper import fetch_messages_async  # Make sure function is defined there\n",
    "\n",
    "# ---[ Telegram Channels ]---\n",
    "channels = [\n",
    "    '@ZemenExpress',\n",
    "    '@nevacomputer',\n",
    "    '@meneshayeofficial',\n",
    "    '@ethio_brand_collection',\n",
    "    '@helloomarketethiopia',\n",
    "    '@modernshoppingcenter',\n",
    "    '@kuruwear'\n",
    "]\n",
    "\n",
    "# ---[ Fetch Messages ]---\n",
    "all_dfs = []\n",
    "\n",
    "for channel in tqdm(channels):\n",
    "    try:\n",
    "        print(f\"📥 Fetching from: {channel}\")\n",
    "        df = await fetch_messages_async(channel, limit=300)\n",
    "        print(f\"✅ {channel} → {len(df)} messages\")\n",
    "        all_dfs.append(df)\n",
    "    except Exception as e:\n",
    "        print(f\"❌ {channel} failed: {e}\")\n",
    "\n",
    "# ---[ Combine and Save Raw Data ]---\n",
    "if all_dfs:\n",
    "    combined_df = pd.concat(all_dfs, ignore_index=True)\n",
    "\n",
    "    os.makedirs(\"../data/raw\", exist_ok=True)\n",
    "    raw_data_path = \"../data/raw/telegram_posts.csv\"\n",
    "    combined_df.to_csv(raw_data_path, index=False)\n",
    "\n",
    "    # ---[ Clean Amharic Text ]---\n",
    "    def clean_text(text):\n",
    "        text = str(text)\n",
    "        text = re.sub(r'\\s+', ' ', text)\n",
    "        text = re.sub(r'[^\\w\\s፡።\\u1200-\\u137F\\u1380-\\u139F\\u2D80-\\u2DDF]', '', text)\n",
    "        return text.strip()\n",
    "\n",
    "    combined_df['cleaned_text'] = combined_df['text'].fillna(\"\").apply(clean_text)\n",
    "\n",
    "    # ---[ Save Cleaned Data ]---\n",
    "    os.makedirs(\"../data/processed\", exist_ok=True)\n",
    "    cleaned_data_path = \"../data/processed/cleaned_telegram_posts.csv\"\n",
    "    combined_df.to_csv(cleaned_data_path, index=False)\n",
    "\n",
    "    # ---[ Display Output ]---\n",
    "    display(HTML(\"<h3>Cleaned Telegram Posts</h3>\"))\n",
    "    display(combined_df.head(10))\n",
    "\n",
    "    (cleaned_data_path, raw_data_path)\n",
    "\n",
    "else:\n",
    "    raise ValueError(\"❌ All fetches failed — no data to save or process.\")\n"
   ]
  },
  {
   "cell_type": "code",
   "execution_count": 4,
   "metadata": {},
   "outputs": [
    {
     "name": "stdout",
     "output_type": "stream",
     "text": [
      "/Users/jerus/Desktop/KAIM/ethio-ner-ecommerce-extractor/notebooks\n",
      "True\n"
     ]
    }
   ],
   "source": [
    "import os\n",
    "print(os.getcwd())  # This should end in /notebooks\n",
    "print(os.path.exists(\"../scripts/telegram_scraper.py\"))  # Should be True\n"
   ]
  }
 ],
 "metadata": {
  "kernelspec": {
   "display_name": "env",
   "language": "python",
   "name": "python3"
  },
  "language_info": {
   "codemirror_mode": {
    "name": "ipython",
    "version": 3
   },
   "file_extension": ".py",
   "mimetype": "text/x-python",
   "name": "python",
   "nbconvert_exporter": "python",
   "pygments_lexer": "ipython3",
   "version": "3.13.2"
  }
 },
 "nbformat": 4,
 "nbformat_minor": 2
}
