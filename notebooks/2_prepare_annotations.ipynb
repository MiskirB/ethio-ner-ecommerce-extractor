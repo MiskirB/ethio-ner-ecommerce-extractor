{
 "cells": [
  {
   "cell_type": "code",
   "execution_count": 1,
   "metadata": {},
   "outputs": [
    {
     "name": "stdout",
     "output_type": "stream",
     "text": [
      "✅ File saved at: ../data/labeling/sample_conll_labeling.txt\n"
     ]
    }
   ],
   "source": [
    "import os\n",
    "import pandas as pd\n",
    "import re\n",
    "\n",
    "# Load cleaned data\n",
    "cleaned_path = \"../data/processed/cleaned_telegram_posts.csv\"\n",
    "df_cleaned = pd.read_csv(cleaned_path)\n",
    "\n",
    "# Filter valid messages\n",
    "df_cleaned = df_cleaned[df_cleaned[\"cleaned_text\"].notnull() & (df_cleaned[\"cleaned_text\"].str.strip() != \"\")]\n",
    "\n",
    "# Take first 30 messages\n",
    "sample_df = df_cleaned.head(30)\n",
    "\n",
    "# Prepare CoNLL data\n",
    "tokenized_conll = []\n",
    "for idx, row in sample_df.iterrows():\n",
    "    message = row['cleaned_text']\n",
    "    tokens = message.split()\n",
    "    conll_block = [f\"{token} O\" for token in tokens]\n",
    "    tokenized_conll.append(\"\\n\".join(conll_block) + \"\\n\")\n",
    "\n",
    "# Save file\n",
    "os.makedirs(\"../data/labeling\", exist_ok=True)\n",
    "output_path = \"../data/labeling/sample_conll_labeling.txt\"\n",
    "with open(output_path, \"w\", encoding=\"utf-8\") as f:\n",
    "    f.write(\"\\n\".join(tokenized_conll))\n",
    "\n",
    "print(f\"✅ File saved at: {output_path}\")\n"
   ]
  }
 ],
 "metadata": {
  "kernelspec": {
   "display_name": "env",
   "language": "python",
   "name": "python3"
  },
  "language_info": {
   "codemirror_mode": {
    "name": "ipython",
    "version": 3
   },
   "file_extension": ".py",
   "mimetype": "text/x-python",
   "name": "python",
   "nbconvert_exporter": "python",
   "pygments_lexer": "ipython3",
   "version": "3.13.2"
  }
 },
 "nbformat": 4,
 "nbformat_minor": 2
}
